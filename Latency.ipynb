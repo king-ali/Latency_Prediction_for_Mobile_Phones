{
 "cells": [
  {
   "cell_type": "code",
   "execution_count": 22,
   "id": "56ceaf53",
   "metadata": {},
   "outputs": [],
   "source": [
    "import numpy as np\n",
    "import sklearn\n",
    "import random\n",
    "import pandas as pd\n",
    "from sklearn.ensemble import AdaBoostClassifier\n",
    "from sklearn.svm import SVC\n",
    "from sklearn.ensemble import RandomForestClassifier\n",
    "from sklearn.neighbors import KNeighborsClassifier\n",
    "from sklearn.metrics import confusion_matrix\n",
    "from sklearn.linear_model import LogisticRegression\n",
    "from sklearn.model_selection import train_test_split"
   ]
  },
  {
   "cell_type": "code",
   "execution_count": 23,
   "id": "243f9157",
   "metadata": {},
   "outputs": [],
   "source": [
    "from sklearn.ensemble import RandomForestClassifier\n",
    "from sklearn.datasets import make_classification"
   ]
  },
  {
   "cell_type": "markdown",
   "id": "1226b23c",
   "metadata": {},
   "source": [
    "# Dataset Generations"
   ]
  },
  {
   "cell_type": "markdown",
   "id": "2f330f81",
   "metadata": {},
   "source": [
    "iF 'RT' value == 'err' in processed data, replace that RT value with PRT value."
   ]
  },
  {
   "cell_type": "code",
   "execution_count": 24,
   "id": "989b6347",
   "metadata": {
    "scrolled": false
   },
   "outputs": [],
   "source": [
    "import pandas as pd"
   ]
  },
  {
   "cell_type": "code",
   "execution_count": 25,
   "id": "dcb041b3",
   "metadata": {
    "scrolled": false
   },
   "outputs": [],
   "source": [
    "# read csv file and convert\n",
    "# into a dataframe object\n",
    "df = pd.DataFrame(pd.read_csv(\"LatencyDataaa.csv\"))\n",
    "df_clean = df.dropna().reset_index(drop=True)\n",
    "pd.set_option('display.max_rows', None)\n",
    "# show the dataframe\n",
    "df = df_clean"
   ]
  },
  {
   "cell_type": "code",
   "execution_count": 16,
   "id": "45f3bebd-ff0a-4c63-9408-6ac70e0ff03b",
   "metadata": {},
   "outputs": [
    {
     "name": "stdout",
     "output_type": "stream",
     "text": [
      "(203, 11)\n"
     ]
    }
   ],
   "source": [
    "for i in range(len(df)):\n",
    "    if df.loc[i, 'RT'] == 'err':\n",
    "        df.loc[i, 'RT'] = df.PRT.iloc[i]\n",
    "        \n",
    "df = df[:-6]\n",
    "print(df.shape)"
   ]
  },
  {
   "cell_type": "code",
   "execution_count": 6,
   "id": "b00c751a-8259-482d-a084-fcbad8d6f3ea",
   "metadata": {},
   "outputs": [],
   "source": [
    "#load the following columns and save them as a new data frame df\n",
    "\n",
    "df = df.loc[:,['Burst', 'RT',\t'MMAP', 'FLAG_45', 'FLAG_20', 'In', 'Out', 'PRT', 'Actual']]"
   ]
  },
  {
   "cell_type": "code",
   "execution_count": 7,
   "id": "29825647",
   "metadata": {},
   "outputs": [
    {
     "name": "stdout",
     "output_type": "stream",
     "text": [
      "(1210, 9)\n"
     ]
    },
    {
     "data": {
      "text/plain": [
       "array([[256.  ,  63.77,   0.  , ...,  33.5 ,  85.54,  35.  ],\n",
       "       [256.  ,  63.77,   0.  , ...,  33.2 ,  85.54,  35.  ],\n",
       "       [256.  ,  63.77,   0.  , ...,  33.4 ,  85.54,  35.  ],\n",
       "       ...,\n",
       "       [ 96.  ,  44.33,   1.  , ...,  23.  ,  68.69,  20.  ],\n",
       "       [ 96.  ,  43.33,   1.  , ...,  24.  ,  69.69,  20.  ],\n",
       "       [ 96.  ,  47.33,   1.  , ...,  25.  ,  70.69,  20.  ]])"
      ]
     },
     "execution_count": 7,
     "metadata": {},
     "output_type": "execute_result"
    }
   ],
   "source": [
    "# Do data augmentation\n",
    "Data=df.to_numpy().astype(float)\n",
    "\n",
    "# Apply data augmentation\n",
    "aug_data = []\n",
    "for i in range(len(Data)):\n",
    "    for j in range(5): \n",
    "        d = Data[i].copy()\n",
    "        k = [random.randint(-4,4), random.randint(-4,4), random.randint(-1,1), random.randint(-4,4)]\n",
    "        d[[1,5,6,7]] = Data[i, [1,5,6,7]]+k\n",
    "        aug_data.append(d[np.newaxis,:])\n",
    "aug_data = np.concatenate(aug_data)\n",
    "Data_ = np.concatenate([Data[8:],aug_data])\n",
    "print(Data_.shape)\n",
    "Data_"
   ]
  },
  {
   "cell_type": "code",
   "execution_count": 8,
   "id": "9ef604c7",
   "metadata": {
    "scrolled": true
   },
   "outputs": [
    {
     "name": "stdout",
     "output_type": "stream",
     "text": [
      "(1210, 8) (1210,)\n",
      "(1210, 8)\n"
     ]
    }
   ],
   "source": [
    "# Class 0 = 0-10\n",
    "# Class 1 = 10-20\n",
    "# Class 2 = 20-30\n",
    "# Class 3 = 30-40\n",
    "# Class 4 = 40-50\n",
    "# Class 5 = 50-60\n",
    "\n",
    "# bins = [0, 10, 15, 20, 25, 30, 35, 40, 45, 50, 60, 70, 85]\n",
    "# bins = [8, 12, 16, 20, 25, 33, 38, 45, 52, 80]\n",
    "\n",
    "bins = [0, 5, 10,15,20, 25, 30, 35,40, 45, 50]\n",
    "\n",
    "Labels=[]\n",
    "New_data=[]\n",
    "for i in range(len(Data_)):\n",
    "    p=Data_[i,-1]\n",
    "\n",
    "   \n",
    "    New_data.append(Data_[i])\n",
    "    \n",
    "    for idx, aa in enumerate(zip(bins[:-1], bins[1:])):\n",
    "#         print(aa,idx)\n",
    "        if aa[0] <= p < aa[1]:\n",
    "            Labels.append(idx)\n",
    "        elif p >= bins[-1]:\n",
    "            Labels.append(len(bins)-1)\n",
    "            break\n",
    "        elif p < bins[0]:\n",
    "            Labels.append(0)\n",
    "            break\n",
    "            \n",
    "\n",
    "Y=np.array(Labels)\n",
    "X=np.array(New_data)\n",
    "# X=X[:,:-1]\n",
    "X= X[0:Y.shape[0], 0:8]\n",
    "print(X.shape,Y.shape)\n",
    "print(X.shape)\n",
    "# print(New_data)\n",
    "# print(Labels)"
   ]
  },
  {
   "cell_type": "code",
   "execution_count": 26,
   "id": "af1e8c82",
   "metadata": {
    "scrolled": false
   },
   "outputs": [],
   "source": [
    "my_y = df['Actual']\n",
    "my_x = df[['Burst', 'RT', 'MMAP', 'FLAG_45', 'FLAG_20', 'In', 'Out', 'PRT']]"
   ]
  },
  {
   "cell_type": "code",
   "execution_count": 27,
   "id": "5148c336",
   "metadata": {},
   "outputs": [],
   "source": [
    "from sklearn.decomposition import PCA\n",
    "from sklearn.preprocessing import StandardScaler"
   ]
  },
  {
   "cell_type": "code",
   "execution_count": 28,
   "id": "9eaeec30",
   "metadata": {},
   "outputs": [
    {
     "data": {
      "text/plain": [
       "array([-0.77255843, -0.89033404,  0.81975606,  0.5386311 ,  1.08493471,\n",
       "       -0.37425698, -0.71036035, -0.70549091])"
      ]
     },
     "execution_count": 28,
     "metadata": {},
     "output_type": "execute_result"
    }
   ],
   "source": [
    "new_data = df[['Burst', 'RT', 'MMAP', 'FLAG_45', 'FLAG_20', 'In', 'Out', 'PRT']]\n",
    "scaler = StandardScaler()\n",
    "scaler.fit(new_data)\n",
    "scaled_data = scaler.transform(new_data)\n",
    "scaled_data[0]"
   ]
  },
  {
   "cell_type": "code",
   "execution_count": 29,
   "id": "13244e48",
   "metadata": {},
   "outputs": [
    {
     "data": {
      "text/plain": [
       "array([96.  , 45.6 ,  1.  ,  1.  ,  1.  , 28.7 , 24.2 , 52.23])"
      ]
     },
     "execution_count": 29,
     "metadata": {},
     "output_type": "execute_result"
    }
   ],
   "source": [
    "my_x_array = np.asarray(my_x)\n",
    "my_x_array[0]"
   ]
  },
  {
   "cell_type": "code",
   "execution_count": 14,
   "id": "164473eb",
   "metadata": {},
   "outputs": [
    {
     "data": {
      "text/plain": [
       "array([ 0.51004364, -1.88712863,  0.38245037,  0.24504862,  0.47520628,\n",
       "       -0.22194108, -0.52361105, -0.2379442 ])"
      ]
     },
     "execution_count": 14,
     "metadata": {},
     "output_type": "execute_result"
    }
   ],
   "source": [
    "pca = PCA(n_components=8)\n",
    "pca.fit(scaled_data)\n",
    "# pca.fit(my_x_array)\n",
    "x_pca = pca.transform(scaled_data)\n",
    "x_pca.shape\n",
    "# y.shape\n",
    "x_pca[0]"
   ]
  },
  {
   "cell_type": "code",
   "execution_count": 30,
   "id": "83dd5657",
   "metadata": {},
   "outputs": [],
   "source": [
    "X_train, X_test, y_train, y_test = train_test_split(my_x, my_y, test_size=0.2, random_state=45,shuffle=True)"
   ]
  },
  {
   "cell_type": "code",
   "execution_count": 32,
   "id": "ed149131",
   "metadata": {},
   "outputs": [
    {
     "name": "stdout",
     "output_type": "stream",
     "text": [
      "0.8095238095238095\n"
     ]
    }
   ],
   "source": [
    "clf=[]\n",
    "\n",
    "# initializing Support Vector Classifier (SVC) from scikit-learn library\n",
    "CLF=SVC(C=20, kernel='linear',random_state=42)\n",
    "# CLF=SVC(C=20, kernel='poly', degree=7, random_state=42)\n",
    "\n",
    "# Training on trainset\n",
    "CLF.fit(X_train,y_train)\n",
    "\n",
    "# evaluating on TestSet\n",
    "score = CLF.score(X_test,y_test)\n",
    "clf.append([CLF, score])\n",
    "print(score)"
   ]
  },
  {
   "cell_type": "code",
   "execution_count": 65,
   "id": "2c23be12-492e-42c3-9ea2-d47bc772e51f",
   "metadata": {},
   "outputs": [
    {
     "data": {
      "text/plain": [
       "array([ 0.,  5., 10., 15., 20., 25., 30., 35., 40., 45., 50.])"
      ]
     },
     "execution_count": 65,
     "metadata": {},
     "output_type": "execute_result"
    }
   ],
   "source": [
    "CLF.classes_"
   ]
  },
  {
   "cell_type": "markdown",
   "id": "b13240ac",
   "metadata": {},
   "source": [
    "# Dict Having Brand Names"
   ]
  },
  {
   "cell_type": "code",
   "execution_count": 67,
   "id": "5434e2a9",
   "metadata": {},
   "outputs": [
    {
     "name": "stdout",
     "output_type": "stream",
     "text": [
      "{0: 'apple', 1: 'google', 2: 'huawei', 3: 'tecno', 4: 'redmi', 5: 'infinix', 6: 'oneplus', 7: 'oppo', 8: 'realme', 9: 'samsung', 10: 'sony', 11: 'vivo', 12: 'xiaomi', 13: 'zte', 14: 'htc'}\n"
     ]
    }
   ],
   "source": [
    "brands = ['apple', 'google', 'huawei',  'tecno', 'redmi', 'infinix', 'oneplus',  'oppo', 'realme',  'samsung',  'sony',  'vivo', 'xiaomi', 'zte',  'htc']\n",
    "\n",
    "mobile_dict = {}\n",
    "for index, brand in enumerate(brands):\n",
    "    mobile_dict[index] = brand\n",
    "\n",
    "print(mobile_dict)\n"
   ]
  },
  {
   "cell_type": "code",
   "execution_count": 70,
   "id": "4833fad5",
   "metadata": {},
   "outputs": [
    {
     "data": {
      "text/plain": [
       "0       google\n",
       "1       google\n",
       "2       google\n",
       "3       google\n",
       "4       google\n",
       "5       google\n",
       "6         oppo\n",
       "7         oppo\n",
       "8         oppo\n",
       "9         oppo\n",
       "10        oppo\n",
       "11        oppo\n",
       "12     oneplus\n",
       "13     oneplus\n",
       "14     oneplus\n",
       "15     oneplus\n",
       "16     oneplus\n",
       "17     oneplus\n",
       "18     oneplus\n",
       "19     oneplus\n",
       "20     oneplus\n",
       "21     oneplus\n",
       "22     oneplus\n",
       "23     oneplus\n",
       "24     oneplus\n",
       "25     oneplus\n",
       "26     oneplus\n",
       "27     oneplus\n",
       "28     oneplus\n",
       "29     oneplus\n",
       "30     oneplus\n",
       "31     oneplus\n",
       "32     oneplus\n",
       "33     oneplus\n",
       "34     oneplus\n",
       "35     oneplus\n",
       "36     samsung\n",
       "37     samsung\n",
       "38     samsung\n",
       "39     samsung\n",
       "40     samsung\n",
       "41     samsung\n",
       "42     samsung\n",
       "43     samsung\n",
       "44     samsung\n",
       "45     samsung\n",
       "46     samsung\n",
       "47     samsung\n",
       "48     samsung\n",
       "49     samsung\n",
       "50     samsung\n",
       "51     samsung\n",
       "52     samsung\n",
       "53     samsung\n",
       "54     samsung\n",
       "55     samsung\n",
       "56     samsung\n",
       "57     samsung\n",
       "58     samsung\n",
       "59     samsung\n",
       "60     samsung\n",
       "61     samsung\n",
       "62     samsung\n",
       "63     samsung\n",
       "64     samsung\n",
       "65     samsung\n",
       "66        vivo\n",
       "67        vivo\n",
       "68        vivo\n",
       "69        vivo\n",
       "70        vivo\n",
       "71        vivo\n",
       "72      xiaomi\n",
       "73      xiaomi\n",
       "74      xiaomi\n",
       "75      xiaomi\n",
       "76      xiaomi\n",
       "77      xiaomi\n",
       "78      xiaomi\n",
       "79      xiaomi\n",
       "80      xiaomi\n",
       "81      xiaomi\n",
       "82      xiaomi\n",
       "83      xiaomi\n",
       "84      xiaomi\n",
       "85      xiaomi\n",
       "86      xiaomi\n",
       "87      xiaomi\n",
       "88      xiaomi\n",
       "89      xiaomi\n",
       "90       tecno\n",
       "91       tecno\n",
       "92       tecno\n",
       "93       tecno\n",
       "94       tecno\n",
       "95       tecno\n",
       "96     samsung\n",
       "97     samsung\n",
       "98     samsung\n",
       "99     samsung\n",
       "100    samsung\n",
       "101    samsung\n",
       "102    oneplus\n",
       "103    oneplus\n",
       "104    oneplus\n",
       "105    oneplus\n",
       "106    oneplus\n",
       "107    oneplus\n",
       "108     google\n",
       "109     google\n",
       "110     google\n",
       "111     google\n",
       "112     google\n",
       "113     google\n",
       "114      redmi\n",
       "115      redmi\n",
       "116      redmi\n",
       "117      redmi\n",
       "118      redmi\n",
       "119      redmi\n",
       "120    samsung\n",
       "121    samsung\n",
       "122    samsung\n",
       "123    samsung\n",
       "124    samsung\n",
       "125    samsung\n",
       "126    infinix\n",
       "127    infinix\n",
       "128    infinix\n",
       "129    infinix\n",
       "130    infinix\n",
       "131    infinix\n",
       "132    infinix\n",
       "133    infinix\n",
       "134    infinix\n",
       "135    infinix\n",
       "136    infinix\n",
       "137    infinix\n",
       "138       vivo\n",
       "139       vivo\n",
       "140       vivo\n",
       "141       vivo\n",
       "142       vivo\n",
       "143       vivo\n",
       "144    oneplus\n",
       "145    oneplus\n",
       "146    oneplus\n",
       "147    oneplus\n",
       "148    oneplus\n",
       "149    oneplus\n",
       "150     huawei\n",
       "151     huawei\n",
       "152     huawei\n",
       "153     huawei\n",
       "154     huawei\n",
       "155     huawei\n",
       "156    samsung\n",
       "157    samsung\n",
       "158    samsung\n",
       "159    samsung\n",
       "160    samsung\n",
       "161    samsung\n",
       "162     xiaomi\n",
       "163     xiaomi\n",
       "164     xiaomi\n",
       "165     xiaomi\n",
       "166     xiaomi\n",
       "167     xiaomi\n",
       "168     xiaomi\n",
       "169     xiaomi\n",
       "170     xiaomi\n",
       "171     xiaomi\n",
       "172     xiaomi\n",
       "173     xiaomi\n",
       "174    samsung\n",
       "175    samsung\n",
       "176    samsung\n",
       "177    samsung\n",
       "178    samsung\n",
       "179    samsung\n",
       "180    oneplus\n",
       "181    oneplus\n",
       "182    oneplus\n",
       "183    oneplus\n",
       "184    oneplus\n",
       "185    oneplus\n",
       "186    oneplus\n",
       "187    oneplus\n",
       "188    oneplus\n",
       "189    oneplus\n",
       "190    oneplus\n",
       "191    oneplus\n",
       "192    samsung\n",
       "193    samsung\n",
       "194    samsung\n",
       "195    samsung\n",
       "196    samsung\n",
       "197    samsung\n",
       "198    oneplus\n",
       "199    oneplus\n",
       "200    oneplus\n",
       "201    oneplus\n",
       "202    oneplus\n",
       "203    oneplus\n",
       "204     google\n",
       "205     google\n",
       "206     google\n",
       "207     google\n",
       "208     google\n",
       "209     google\n",
       "210       vivo\n",
       "211       vivo\n",
       "212       vivo\n",
       "213       vivo\n",
       "214       vivo\n",
       "Name: Phone, dtype: object"
      ]
     },
     "execution_count": 70,
     "metadata": {},
     "output_type": "execute_result"
    }
   ],
   "source": [
    "import pandas as pd\n",
    "\n",
    "# Read the excel file into a pandas DataFrame\n",
    "df = pd.read_csv('LatencyDataaa.csv')\n",
    "\n",
    "# Get the values of the first column\n",
    "first_column = df.iloc[:,0]\n",
    "\n",
    "# Get only the first word of each value\n",
    "first_word = [value.split()[0].lower().strip() for value in first_column]\n",
    "\n",
    "# Convert to lowercase and remove spaces\n",
    "processed_names = [name.replace(\" \", \"\").lower() for name in first_word]\n",
    "\n",
    "# print(processed_names)\n",
    "df.iloc[:,0] = processed_names\n",
    "df.iloc[:,0]\n",
    "\n"
   ]
  }
 ],
 "metadata": {
  "kernelspec": {
   "display_name": "Python 3 (ipykernel)",
   "language": "python",
   "name": "python3"
  },
  "language_info": {
   "codemirror_mode": {
    "name": "ipython",
    "version": 3
   },
   "file_extension": ".py",
   "mimetype": "text/x-python",
   "name": "python",
   "nbconvert_exporter": "python",
   "pygments_lexer": "ipython3",
   "version": "3.9.13"
  }
 },
 "nbformat": 4,
 "nbformat_minor": 5
}
